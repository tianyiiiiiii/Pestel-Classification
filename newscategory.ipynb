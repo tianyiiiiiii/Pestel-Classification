{
 "cells": [
  {
   "cell_type": "code",
   "execution_count": 19,
   "metadata": {},
   "outputs": [
    {
     "name": "stdout",
     "output_type": "stream",
     "text": [
      "                                                link  \\\n",
      "0  https://www.huffpost.com/entry/covid-boosters-...   \n",
      "1  https://www.huffpost.com/entry/american-airlin...   \n",
      "2  https://www.huffpost.com/entry/funniest-tweets...   \n",
      "3  https://www.huffpost.com/entry/funniest-parent...   \n",
      "4  https://www.huffpost.com/entry/amy-cooper-lose...   \n",
      "\n",
      "                                            headline   category  \\\n",
      "0  Over 4 Million Americans Roll Up Sleeves For O...  U.S. NEWS   \n",
      "1  American Airlines Flyer Charged, Banned For Li...  U.S. NEWS   \n",
      "2  23 Of The Funniest Tweets About Cats And Dogs ...     COMEDY   \n",
      "3  The Funniest Tweets From Parents This Week (Se...  PARENTING   \n",
      "4  Woman Who Called Cops On Black Bird-Watcher Lo...  U.S. NEWS   \n",
      "\n",
      "                                   short_description               authors  \\\n",
      "0  Health experts said it is too early to predict...  Carla K. Johnson, AP   \n",
      "1  He was subdued by passengers and crew when he ...        Mary Papenfuss   \n",
      "2  \"Until you have a dog you don't understand wha...         Elyse Wanshel   \n",
      "3  \"Accidentally put grown-up toothpaste on my to...      Caroline Bologna   \n",
      "4  Amy Cooper accused investment firm Franklin Te...        Nina Golgowski   \n",
      "\n",
      "        date  \n",
      "0 2022-09-23  \n",
      "1 2022-09-23  \n",
      "2 2022-09-23  \n",
      "3 2022-09-23  \n",
      "4 2022-09-22  \n"
     ]
    }
   ],
   "source": [
    "import pandas as pd\n",
    "\n",
    "#  https://www.kaggle.com/datasets/rmisra/news-category-dataset/data\n",
    "# Load the JSON file\n",
    "df = pd.read_json('data/News_Category_Dataset_v3.json', lines=True)\n",
    "\n",
    "# Display the first few rows\n",
    "print(df.head())\n"
   ]
  },
  {
   "cell_type": "code",
   "execution_count": 20,
   "metadata": {},
   "outputs": [
    {
     "name": "stdout",
     "output_type": "stream",
     "text": [
      "['link', 'headline', 'category', 'short_description', 'authors', 'date']\n"
     ]
    }
   ],
   "source": [
    "print(df.columns.tolist())"
   ]
  },
  {
   "cell_type": "code",
   "execution_count": 21,
   "metadata": {},
   "outputs": [
    {
     "data": {
      "text/plain": [
       "link                 0\n",
       "headline             0\n",
       "category             0\n",
       "short_description    0\n",
       "authors              0\n",
       "date                 0\n",
       "dtype: int64"
      ]
     },
     "execution_count": 21,
     "metadata": {},
     "output_type": "execute_result"
    }
   ],
   "source": [
    "df.isnull().sum()"
   ]
  },
  {
   "cell_type": "code",
   "execution_count": 22,
   "metadata": {},
   "outputs": [
    {
     "name": "stdout",
     "output_type": "stream",
     "text": [
      "Empty content count: 19712\n"
     ]
    }
   ],
   "source": [
    "empty_count = (df['short_description'].str.strip() == '').sum()\n",
    "print(\"Empty content count:\", empty_count)\n"
   ]
  },
  {
   "cell_type": "code",
   "execution_count": 23,
   "metadata": {},
   "outputs": [],
   "source": [
    "df = df[df['short_description'].str.strip() != '']\n",
    "df = df[df['headline'].str.strip() != '']"
   ]
  },
  {
   "cell_type": "code",
   "execution_count": 24,
   "metadata": {},
   "outputs": [
    {
     "name": "stdout",
     "output_type": "stream",
     "text": [
      "['U.S. NEWS' 'COMEDY' 'PARENTING' 'WORLD NEWS' 'CULTURE & ARTS' 'TECH'\n",
      " 'SPORTS' 'ENTERTAINMENT' 'POLITICS' 'WEIRD NEWS' 'ENVIRONMENT'\n",
      " 'EDUCATION' 'CRIME' 'SCIENCE' 'WELLNESS' 'BUSINESS' 'STYLE & BEAUTY'\n",
      " 'FOOD & DRINK' 'MEDIA' 'QUEER VOICES' 'HOME & LIVING' 'WOMEN'\n",
      " 'BLACK VOICES' 'TRAVEL' 'MONEY' 'RELIGION' 'LATINO VOICES' 'IMPACT'\n",
      " 'WEDDINGS' 'COLLEGE' 'PARENTS' 'ARTS & CULTURE' 'STYLE' 'GREEN' 'TASTE'\n",
      " 'HEALTHY LIVING' 'THE WORLDPOST' 'GOOD NEWS' 'WORLDPOST' 'FIFTY' 'ARTS'\n",
      " 'DIVORCE']\n"
     ]
    }
   ],
   "source": [
    "unique_categories = df['category'].unique()\n",
    "print(unique_categories)"
   ]
  },
  {
   "cell_type": "code",
   "execution_count": 25,
   "metadata": {},
   "outputs": [
    {
     "name": "stdout",
     "output_type": "stream",
     "text": [
      "category\n",
      "POLITICS          32441\n",
      "WELLNESS          17943\n",
      "ENTERTAINMENT     14774\n",
      "STYLE & BEAUTY     9802\n",
      "TRAVEL             9421\n",
      "PARENTING          8790\n",
      "FOOD & DRINK       6331\n",
      "QUEER VOICES       5603\n",
      "HEALTHY LIVING     5265\n",
      "BUSINESS           5132\n",
      "COMEDY             4642\n",
      "SPORTS             4414\n",
      "HOME & LIVING      4317\n",
      "BLACK VOICES       4177\n",
      "THE WORLDPOST      3664\n",
      "WEDDINGS           3653\n",
      "PARENTS            3556\n",
      "DIVORCE            3426\n",
      "WORLD NEWS         3297\n",
      "WOMEN              3184\n",
      "IMPACT             3086\n",
      "CRIME              2832\n",
      "MEDIA              2404\n",
      "WEIRD NEWS         2316\n",
      "TECH               2103\n",
      "GREEN              2046\n",
      "TASTE              1940\n",
      "RELIGION           1878\n",
      "SCIENCE            1803\n",
      "MONEY              1755\n",
      "STYLE              1567\n",
      "ENVIRONMENT        1442\n",
      "U.S. NEWS          1377\n",
      "ARTS & CULTURE     1339\n",
      "WORLDPOST          1242\n",
      "CULTURE & ARTS     1063\n",
      "FIFTY              1042\n",
      "GOOD NEWS          1039\n",
      "LATINO VOICES      1022\n",
      "COLLEGE             921\n",
      "EDUCATION           902\n",
      "ARTS                863\n",
      "Name: count, dtype: int64\n"
     ]
    }
   ],
   "source": [
    "category_counts = df['category'].value_counts().sort_values(ascending=False)\n",
    "print(category_counts)"
   ]
  },
  {
   "cell_type": "code",
   "execution_count": 26,
   "metadata": {},
   "outputs": [],
   "source": [
    "pestel_keywords = {\n",
    "    \"Political\": [\n",
    "        \"POLITICS\"\n",
    "        # ,\"WORLD NEWS\", \"U.S. NEWS\", \"WORLDPOST\", \"THE WORLDPOST\"\n",
    "    ],\n",
    "    \"Economic\": [\n",
    "        \"BUSINESS\"\n",
    "        # , \"MONEY\"\n",
    "    ],\n",
    "    \"Social\": [\n",
    "        \"WOMEN\", \"BLACK VOICES\", \"LATINO VOICES\", \"TASTE\", \"FOOD & DRINK\",\n",
    "        \"COLLEGE\", \"FIFTY\", \"DIVORCE\", \"HOME & LIVING\", \"HEALTHY LIVING\", \"IMPACT\"\n",
    "        # \"MEDIA\", \"ARTS\", \"CULTURE & ARTS\", \"ARTS & CULTURE\", \"STYLE & BEAUTY\", \"EDUCATION\",\"PARENTING\", \"PARENTS\", \n",
    "        # \"COMEDY\", \"GOOD NEWS\", \"QUEER VOICES\", \"WEDDINGS\", \"TRAVEL\", \"ENTERTAINMENT\", \"WELLNESS\"\n",
    "    ],\n",
    "    \"Technological\": [\n",
    "        \"TECH\", \"SCIENCE\"\n",
    "    ],\n",
    "    \"Environmental\": [\n",
    "        \"ENVIRONMENT\", \"GREEN\"\n",
    "    ],\n",
    "    \"Legal\": [\n",
    "        \"CRIME\"\n",
    "        # , \"RELIGION\"\n",
    "    ]\n",
    "}"
   ]
  },
  {
   "cell_type": "code",
   "execution_count": 27,
   "metadata": {},
   "outputs": [
    {
     "name": "stdout",
     "output_type": "stream",
     "text": [
      "PESTEL_label\n",
      "Social           34711\n",
      "Political        32441\n",
      "Economic          5132\n",
      "Technological     3906\n",
      "Environmental     3488\n",
      "Legal             2832\n",
      "Name: count, dtype: int64\n"
     ]
    }
   ],
   "source": [
    "# Create a reverse mapping: topic -> PESTEL label\n",
    "topic_to_label = {}\n",
    "for label, topics in pestel_keywords.items():\n",
    "    for topic in topics:\n",
    "        topic_to_label[topic.lower()] = label  # use lowercase for case-insensitive match\n",
    "\n",
    "# Create the new column using the 'topic' column from the dataset\n",
    "# Assume your dataset has a column called 'topic' with the keywords\n",
    "df['PESTEL_label'] = df['category'].str.lower().map(topic_to_label)\n",
    "pestel_counts = df['PESTEL_label'].value_counts()\n",
    "print(pestel_counts)  "
   ]
  },
  {
   "cell_type": "code",
   "execution_count": 28,
   "metadata": {},
   "outputs": [
    {
     "name": "stdout",
     "output_type": "stream",
     "text": [
      "1940\n",
      "                                                    link  \\\n",
      "16173  https://www.huffingtonpost.com/entry/ice-water...   \n",
      "16242  https://www.huffingtonpost.com/entry/pineapple...   \n",
      "16516  https://www.huffingtonpost.com/entry/how-to-ge...   \n",
      "16599  https://www.huffingtonpost.com/entry/diet-coke...   \n",
      "16776  https://www.huffingtonpost.com/entry/sunions-t...   \n",
      "\n",
      "                                                headline category  \\\n",
      "16173  It's Weird That American Restaurants Serve Ice...    TASTE   \n",
      "16242  Pineapple Casserole, The Southern Dish That's ...    TASTE   \n",
      "16516        How To Actually Get A Bartender's Attention    TASTE   \n",
      "16599  Diet Coke's Millennial-Inspired Makeover Leave...    TASTE   \n",
      "16776  We Tested The New 'Tearless' Onions To See If ...    TASTE   \n",
      "\n",
      "                                       short_description           authors  \\\n",
      "16173  But why do we even have ice in our drinks in t...   Todd Van Luling   \n",
      "16242  It's got pineapple, cheddar and a whole lot of...     Kristen Aiken   \n",
      "16516              Plus other things they wish you knew.    Taylor Pittman   \n",
      "16599    It's not like a regular soda, it's a cool soda.  Abigail Williams   \n",
      "16776                     Put away your goggles, people.     Kristen Aiken   \n",
      "\n",
      "            date PESTEL_label  \n",
      "16173 2018-01-16       Social  \n",
      "16242 2018-01-16       Social  \n",
      "16516 2018-01-11       Social  \n",
      "16599 2018-01-10       Social  \n",
      "16776 2018-01-08       Social  \n"
     ]
    }
   ],
   "source": [
    "check_description = df[df['category'] == 'TASTE']\n",
    "print(len(check_description))\n",
    "\n",
    "print(check_description.head())\n",
    "\n",
    "# for idx, row in check_description.iterrows():\n",
    "#     print(f\"\\n--- short_description {idx} ---\")\n",
    "#     print(row['headline'])\n",
    "#     print(row['short_description'])"
   ]
  },
  {
   "cell_type": "code",
   "execution_count": 29,
   "metadata": {},
   "outputs": [
    {
     "name": "stdout",
     "output_type": "stream",
     "text": [
      "PESTEL_label\n",
      "Economic         2800\n",
      "Environmental    2800\n",
      "Legal            2800\n",
      "Political        2800\n",
      "Social           2800\n",
      "Technological    2800\n",
      "Name: count, dtype: int64\n",
      "                                                link  \\\n",
      "0  https://www.huffingtonpost.com/entry/mortgage-...   \n",
      "1  https://www.huffingtonpost.com/entry/women-in-...   \n",
      "2  https://www.huffingtonpost.com/entry/like-athl...   \n",
      "3  https://www.huffingtonpost.com/entry/donald-tr...   \n",
      "4  https://www.huffingtonpost.com/entry/grocery-c...   \n",
      "\n",
      "                                            headline  category  \\\n",
      "0  Mortgage Deal Reached In 2008 Shows Pitfalls T...  BUSINESS   \n",
      "1  Women in Business: Kate O'Brien Minson, Presid...  BUSINESS   \n",
      "2  Like Athletes, Business Owners Need to Learn F...  BUSINESS   \n",
      "3  Trump Could Trigger The Longest Recession Sinc...  BUSINESS   \n",
      "4  Grocery Chains Made A Promise To The First Lad...  BUSINESS   \n",
      "\n",
      "                                   short_description  \\\n",
      "0  The Obama administration, which is pushing sta...   \n",
      "1  Kate has lived and breathed the therapeutic ap...   \n",
      "2  Business owners and top executives can also \"w...   \n",
      "3                                             Yikes.   \n",
      "4  An AP investigation found that major grocers o...   \n",
      "\n",
      "                                             authors       date PESTEL_label  \n",
      "0                                       Loren Berlin 2012-02-05     Economic  \n",
      "1  Laura Dunn, ContributorSocial Media and Commun... 2015-04-25     Economic  \n",
      "2  Mary Ellen Biery, ContributorResearch Speciali... 2015-01-19     Economic  \n",
      "3                                          Ben Walsh 2016-06-27     Economic  \n",
      "4                                 Mike Schneider, AP 2015-12-07     Economic  \n"
     ]
    }
   ],
   "source": [
    "# Target size per class\n",
    "TARGET_SIZE = 2800 \n",
    "\n",
    "# Downsample each class\n",
    "df_balanced = (\n",
    "    df[df['PESTEL_label'].notnull()]\n",
    "    .groupby('PESTEL_label')\n",
    "    .apply(lambda x: x.sample(min(len(x), TARGET_SIZE), random_state=42))\n",
    "    .reset_index(drop=True)\n",
    ")\n",
    "\n",
    "# Check new class distribution\n",
    "print(df_balanced['PESTEL_label'].value_counts())\n",
    "print(df_balanced.head())"
   ]
  },
  {
   "cell_type": "code",
   "execution_count": 30,
   "metadata": {},
   "outputs": [],
   "source": [
    "df_balanced.to_csv(\"data/balancednewcategory.csv\", index=False)"
   ]
  },
  {
   "cell_type": "code",
   "execution_count": null,
   "metadata": {},
   "outputs": [],
   "source": [
    "df.to_csv(\"data/newcategory.csv\", index=False)"
   ]
  },
  {
   "cell_type": "code",
   "execution_count": null,
   "metadata": {},
   "outputs": [],
   "source": []
  },
  {
   "cell_type": "code",
   "execution_count": null,
   "metadata": {},
   "outputs": [],
   "source": []
  }
 ],
 "metadata": {
  "kernelspec": {
   "display_name": "Python 3",
   "language": "python",
   "name": "python3"
  },
  "language_info": {
   "codemirror_mode": {
    "name": "ipython",
    "version": 3
   },
   "file_extension": ".py",
   "mimetype": "text/x-python",
   "name": "python",
   "nbconvert_exporter": "python",
   "pygments_lexer": "ipython3",
   "version": "3.10.11"
  }
 },
 "nbformat": 4,
 "nbformat_minor": 2
}
