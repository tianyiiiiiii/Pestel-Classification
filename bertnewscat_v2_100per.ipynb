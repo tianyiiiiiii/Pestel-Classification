{
 "cells": [
  {
   "cell_type": "code",
   "execution_count": 1,
   "metadata": {},
   "outputs": [
    {
     "name": "stderr",
     "output_type": "stream",
     "text": [
      "/Library/Frameworks/Python.framework/Versions/3.10/lib/python3.10/site-packages/tqdm/auto.py:21: TqdmWarning: IProgress not found. Please update jupyter and ipywidgets. See https://ipywidgets.readthedocs.io/en/stable/user_install.html\n",
      "  from .autonotebook import tqdm as notebook_tqdm\n",
      "/Library/Frameworks/Python.framework/Versions/3.10/lib/python3.10/site-packages/transformers/utils/generic.py:441: FutureWarning: `torch.utils._pytree._register_pytree_node` is deprecated. Please use `torch.utils._pytree.register_pytree_node` instead.\n",
      "  _torch_pytree._register_pytree_node(\n",
      "/Library/Frameworks/Python.framework/Versions/3.10/lib/python3.10/site-packages/transformers/utils/generic.py:309: FutureWarning: `torch.utils._pytree._register_pytree_node` is deprecated. Please use `torch.utils._pytree.register_pytree_node` instead.\n",
      "  _torch_pytree._register_pytree_node(\n"
     ]
    }
   ],
   "source": [
    "from transformers import AutoTokenizer, AutoModelForTokenClassification\n",
    "from transformers import pipeline\n",
    "import transformers\n",
    "from torch.utils.data import DataLoader, RandomSampler, SequentialSampler,TensorDataset\n",
    "# from datasets import Dataset\n",
    "from torch.utils.data import Dataset \n",
    "import torch\n",
    "from torch.optim import AdamW\n",
    "from transformers import get_scheduler\n",
    "from tqdm.auto import tqdm\n",
    "import evaluate\n",
    "from torch.nn import CrossEntropyLoss\n",
    "import pandas as pd\n",
    "from sklearn.preprocessing import LabelEncoder\n",
    "from sklearn.model_selection import train_test_split\n",
    "from sklearn.metrics import accuracy_score, precision_score, recall_score, f1_score\n",
    "from sklearn.metrics import classification_report\n",
    "import os\n",
    "import glob\n",
    "import torch\n",
    "import matplotlib.pyplot as plt\n",
    "import numpy as np"
   ]
  },
  {
   "cell_type": "code",
   "execution_count": 2,
   "metadata": {},
   "outputs": [
    {
     "data": {
      "text/html": [
       "<div>\n",
       "<style scoped>\n",
       "    .dataframe tbody tr th:only-of-type {\n",
       "        vertical-align: middle;\n",
       "    }\n",
       "\n",
       "    .dataframe tbody tr th {\n",
       "        vertical-align: top;\n",
       "    }\n",
       "\n",
       "    .dataframe thead th {\n",
       "        text-align: right;\n",
       "    }\n",
       "</style>\n",
       "<table border=\"1\" class=\"dataframe\">\n",
       "  <thead>\n",
       "    <tr style=\"text-align: right;\">\n",
       "      <th></th>\n",
       "      <th>link</th>\n",
       "      <th>headline</th>\n",
       "      <th>category</th>\n",
       "      <th>short_description</th>\n",
       "      <th>authors</th>\n",
       "      <th>date</th>\n",
       "      <th>PESTEL_label</th>\n",
       "    </tr>\n",
       "  </thead>\n",
       "  <tbody>\n",
       "    <tr>\n",
       "      <th>0</th>\n",
       "      <td>https://www.huffingtonpost.com/entry/mortgage-...</td>\n",
       "      <td>Mortgage Deal Reached In 2008 Shows Pitfalls T...</td>\n",
       "      <td>BUSINESS</td>\n",
       "      <td>The Obama administration, which is pushing sta...</td>\n",
       "      <td>Loren Berlin</td>\n",
       "      <td>2012-02-05</td>\n",
       "      <td>Economic</td>\n",
       "    </tr>\n",
       "    <tr>\n",
       "      <th>1</th>\n",
       "      <td>https://www.huffingtonpost.com/entry/women-in-...</td>\n",
       "      <td>Women in Business: Kate O'Brien Minson, Presid...</td>\n",
       "      <td>BUSINESS</td>\n",
       "      <td>Kate has lived and breathed the therapeutic ap...</td>\n",
       "      <td>Laura Dunn, ContributorSocial Media and Commun...</td>\n",
       "      <td>2015-04-25</td>\n",
       "      <td>Economic</td>\n",
       "    </tr>\n",
       "    <tr>\n",
       "      <th>2</th>\n",
       "      <td>https://www.huffingtonpost.com/entry/like-athl...</td>\n",
       "      <td>Like Athletes, Business Owners Need to Learn F...</td>\n",
       "      <td>BUSINESS</td>\n",
       "      <td>Business owners and top executives can also \"w...</td>\n",
       "      <td>Mary Ellen Biery, ContributorResearch Speciali...</td>\n",
       "      <td>2015-01-19</td>\n",
       "      <td>Economic</td>\n",
       "    </tr>\n",
       "    <tr>\n",
       "      <th>3</th>\n",
       "      <td>https://www.huffingtonpost.com/entry/donald-tr...</td>\n",
       "      <td>Trump Could Trigger The Longest Recession Sinc...</td>\n",
       "      <td>BUSINESS</td>\n",
       "      <td>Yikes.</td>\n",
       "      <td>Ben Walsh</td>\n",
       "      <td>2016-06-27</td>\n",
       "      <td>Economic</td>\n",
       "    </tr>\n",
       "    <tr>\n",
       "      <th>4</th>\n",
       "      <td>https://www.huffingtonpost.com/entry/grocery-c...</td>\n",
       "      <td>Grocery Chains Made A Promise To The First Lad...</td>\n",
       "      <td>BUSINESS</td>\n",
       "      <td>An AP investigation found that major grocers o...</td>\n",
       "      <td>Mike Schneider, AP</td>\n",
       "      <td>2015-12-07</td>\n",
       "      <td>Economic</td>\n",
       "    </tr>\n",
       "  </tbody>\n",
       "</table>\n",
       "</div>"
      ],
      "text/plain": [
       "                                                link  \\\n",
       "0  https://www.huffingtonpost.com/entry/mortgage-...   \n",
       "1  https://www.huffingtonpost.com/entry/women-in-...   \n",
       "2  https://www.huffingtonpost.com/entry/like-athl...   \n",
       "3  https://www.huffingtonpost.com/entry/donald-tr...   \n",
       "4  https://www.huffingtonpost.com/entry/grocery-c...   \n",
       "\n",
       "                                            headline  category  \\\n",
       "0  Mortgage Deal Reached In 2008 Shows Pitfalls T...  BUSINESS   \n",
       "1  Women in Business: Kate O'Brien Minson, Presid...  BUSINESS   \n",
       "2  Like Athletes, Business Owners Need to Learn F...  BUSINESS   \n",
       "3  Trump Could Trigger The Longest Recession Sinc...  BUSINESS   \n",
       "4  Grocery Chains Made A Promise To The First Lad...  BUSINESS   \n",
       "\n",
       "                                   short_description  \\\n",
       "0  The Obama administration, which is pushing sta...   \n",
       "1  Kate has lived and breathed the therapeutic ap...   \n",
       "2  Business owners and top executives can also \"w...   \n",
       "3                                             Yikes.   \n",
       "4  An AP investigation found that major grocers o...   \n",
       "\n",
       "                                             authors        date PESTEL_label  \n",
       "0                                       Loren Berlin  2012-02-05     Economic  \n",
       "1  Laura Dunn, ContributorSocial Media and Commun...  2015-04-25     Economic  \n",
       "2  Mary Ellen Biery, ContributorResearch Speciali...  2015-01-19     Economic  \n",
       "3                                          Ben Walsh  2016-06-27     Economic  \n",
       "4                                 Mike Schneider, AP  2015-12-07     Economic  "
      ]
     },
     "execution_count": 2,
     "metadata": {},
     "output_type": "execute_result"
    }
   ],
   "source": [
    "df = pd.read_csv(\"data/100pernewscategory.csv\")\n",
    "df.head()"
   ]
  },
  {
   "cell_type": "code",
   "execution_count": 3,
   "metadata": {},
   "outputs": [
    {
     "data": {
      "text/html": [
       "<div>\n",
       "<style scoped>\n",
       "    .dataframe tbody tr th:only-of-type {\n",
       "        vertical-align: middle;\n",
       "    }\n",
       "\n",
       "    .dataframe tbody tr th {\n",
       "        vertical-align: top;\n",
       "    }\n",
       "\n",
       "    .dataframe thead th {\n",
       "        text-align: right;\n",
       "    }\n",
       "</style>\n",
       "<table border=\"1\" class=\"dataframe\">\n",
       "  <thead>\n",
       "    <tr style=\"text-align: right;\">\n",
       "      <th></th>\n",
       "      <th>PESTEL_label</th>\n",
       "      <th>content</th>\n",
       "    </tr>\n",
       "  </thead>\n",
       "  <tbody>\n",
       "    <tr>\n",
       "      <th>0</th>\n",
       "      <td>Economic</td>\n",
       "      <td>Mortgage Deal Reached In 2008 Shows Pitfalls T...</td>\n",
       "    </tr>\n",
       "    <tr>\n",
       "      <th>1</th>\n",
       "      <td>Economic</td>\n",
       "      <td>Women in Business: Kate O'Brien Minson, Presid...</td>\n",
       "    </tr>\n",
       "    <tr>\n",
       "      <th>2</th>\n",
       "      <td>Economic</td>\n",
       "      <td>Like Athletes, Business Owners Need to Learn F...</td>\n",
       "    </tr>\n",
       "    <tr>\n",
       "      <th>3</th>\n",
       "      <td>Economic</td>\n",
       "      <td>Trump Could Trigger The Longest Recession Sinc...</td>\n",
       "    </tr>\n",
       "    <tr>\n",
       "      <th>4</th>\n",
       "      <td>Economic</td>\n",
       "      <td>Grocery Chains Made A Promise To The First Lad...</td>\n",
       "    </tr>\n",
       "  </tbody>\n",
       "</table>\n",
       "</div>"
      ],
      "text/plain": [
       "  PESTEL_label                                            content\n",
       "0     Economic  Mortgage Deal Reached In 2008 Shows Pitfalls T...\n",
       "1     Economic  Women in Business: Kate O'Brien Minson, Presid...\n",
       "2     Economic  Like Athletes, Business Owners Need to Learn F...\n",
       "3     Economic  Trump Could Trigger The Longest Recession Sinc...\n",
       "4     Economic  Grocery Chains Made A Promise To The First Lad..."
      ]
     },
     "execution_count": 3,
     "metadata": {},
     "output_type": "execute_result"
    }
   ],
   "source": [
    "df[\"content\"] = df[\"headline\"] + \" \" + df[\"short_description\"]\n",
    "df = df[['PESTEL_label', 'content']]\n",
    "df.head()"
   ]
  },
  {
   "cell_type": "code",
   "execution_count": 4,
   "metadata": {},
   "outputs": [],
   "source": [
    "# convert content to string and handle NaN\n",
    "df['content'] = df['content'].apply(lambda x: '' if pd.isna(x) else str(x))"
   ]
  },
  {
   "cell_type": "code",
   "execution_count": 5,
   "metadata": {},
   "outputs": [],
   "source": [
    "def clean_text(text):\n",
    "    text = text.replace('\\n', ' ').strip()\n",
    "    return text\n",
    "\n",
    "df['content'] = df['content'].apply(clean_text)"
   ]
  },
  {
   "cell_type": "code",
   "execution_count": 6,
   "metadata": {},
   "outputs": [],
   "source": [
    "# test set 20%\n",
    "train_val_df, test_df = train_test_split(\n",
    "    df, test_size=0.2, stratify=df['PESTEL_label'], random_state=42\n",
    ")\n",
    "\n",
    "# train set 70%, val set 10%\n",
    "train_df, val_df = train_test_split(\n",
    "    train_val_df, test_size=0.125, stratify=train_val_df['PESTEL_label'], random_state=42\n",
    ")"
   ]
  },
  {
   "cell_type": "code",
   "execution_count": 7,
   "metadata": {},
   "outputs": [],
   "source": [
    "class NewsDataset(Dataset):\n",
    "    def __init__(self, data, tokenizer, max_len, pestel_to_idx):\n",
    "        self.df = data\n",
    "        self.tokenizer = tokenizer\n",
    "        self.max_len = max_len\n",
    "        self.pestel_to_idx = pestel_to_idx\n",
    "\n",
    "    def __len__(self):\n",
    "        return len(self.df)\n",
    "\n",
    "    def __getitem__(self, index):\n",
    "        row = self.df.iloc[index] \n",
    "        content = row['content']\n",
    "        label = row['PESTEL_label']\n",
    "\n",
    "        inputs = self.tokenizer.encode_plus(\n",
    "            content,\n",
    "            None,\n",
    "            add_special_tokens=True,\n",
    "            max_length=self.max_len,\n",
    "            padding='max_length',\n",
    "            return_token_type_ids=True,\n",
    "            truncation=True\n",
    "        )\n",
    "\n",
    "        return {\n",
    "            'ids': torch.tensor(inputs['input_ids'], dtype=torch.long),\n",
    "            'mask': torch.tensor(inputs['attention_mask'], dtype=torch.long),\n",
    "            'targets': torch.tensor(self.pestel_to_idx[label], dtype=torch.long)\n",
    "        }\n",
    "        \n",
    "pestel_to_idx = {\n",
    "    \"Political\": 0,\n",
    "    \"Economic\": 1,\n",
    "    \"Social\": 2,\n",
    "    \"Technological\": 3,\n",
    "    \"Environmental\": 4,\n",
    "    \"Legal\": 5\n",
    "}"
   ]
  },
  {
   "cell_type": "code",
   "execution_count": 8,
   "metadata": {},
   "outputs": [],
   "source": [
    "class_names = [\"Political\", \"Economic\", \"Social\", \"Technological\", \"Environmental\", \"Legal\"]"
   ]
  },
  {
   "cell_type": "code",
   "execution_count": 9,
   "metadata": {},
   "outputs": [
    {
     "name": "stderr",
     "output_type": "stream",
     "text": [
      "/Library/Frameworks/Python.framework/Versions/3.10/lib/python3.10/site-packages/huggingface_hub/file_download.py:797: FutureWarning: `resume_download` is deprecated and will be removed in version 1.0.0. Downloads always resume when possible. If you want to force a new download, use `force_download=True`.\n",
      "  warnings.warn(\n"
     ]
    }
   ],
   "source": [
    "tokenizer = transformers.DistilBertTokenizer.from_pretrained('distilbert-base-uncased')"
   ]
  },
  {
   "cell_type": "code",
   "execution_count": 10,
   "metadata": {},
   "outputs": [],
   "source": [
    "distilbert_model = transformers.DistilBertModel.from_pretrained('distilbert-base-uncased')"
   ]
  },
  {
   "cell_type": "code",
   "execution_count": 11,
   "metadata": {},
   "outputs": [],
   "source": [
    "class PestelClassifier(torch.nn.Module):\n",
    "    def __init__(self, distilbert, num_classes):\n",
    "        super(PestelClassifier, self).__init__()\n",
    "        self.distilbert = distilbert\n",
    "        self.dropout = torch.nn.Dropout(0.3)\n",
    "        self.output = torch.nn.Linear(768, num_classes)\n",
    "        \n",
    "        # self.classifier = torch.nn.Sequential(\n",
    "        #     torch.nn.Linear(768, 256),\n",
    "        #     torch.nn.ReLU(),\n",
    "        #     torch.nn.Dropout(0.5),\n",
    "        #     torch.nn.Linear(256, num_classes)\n",
    "        # )\n",
    "\n",
    "    def forward(self, ids, mask):\n",
    "        output = self.distilbert(ids, attention_mask=mask)\n",
    "        output = self.dropout(output[0][:, 0, :])  # CLS token\n",
    "        output = self.output(output)\n",
    "        return output\n",
    "    \n",
    "        # output = self.distilbert(ids, attention_mask=mask).last_hidden_state[:, 0, :]\n",
    "        # output = self.classifier(output)\n",
    "        # return output"
   ]
  },
  {
   "cell_type": "code",
   "execution_count": 12,
   "metadata": {},
   "outputs": [],
   "source": [
    "def train_bert_model(model, train_loader, val_loader, device, epochs, optimizer, loss_function, patience=3, checkpoint_dir=None, resume=False):\n",
    "    start_epoch = 0\n",
    "    best_val_loss = float('inf')\n",
    "    patience_counter = 0\n",
    "\n",
    "    if checkpoint_dir and not os.path.exists(checkpoint_dir):\n",
    "        os.makedirs(checkpoint_dir)\n",
    "\n",
    "    # track history\n",
    "    history = {\n",
    "        'train_loss': [], 'val_loss': [],\n",
    "        'train_acc': [], 'val_acc': [],\n",
    "        'train_f1': [], 'val_f1': [],\n",
    "        'train_precision': [], 'val_precision': [],\n",
    "        'train_recall': [], 'val_recall': []\n",
    "    }\n",
    "\n",
    "    # resume from latest checkpoint if specified\n",
    "    if resume and checkpoint_dir:\n",
    "        latest_ckpt = find_latest_checkpoint(checkpoint_dir)\n",
    "        if latest_ckpt:\n",
    "            print(f\"Resuming from checkpoint: {latest_ckpt}\")\n",
    "            model, optimizer, start_epoch = load_checkpoint(model, optimizer, latest_ckpt, device)\n",
    "            start_epoch += 1\n",
    "\n",
    "    # train\n",
    "    for epoch in range(start_epoch, epochs):\n",
    "        model.train()\n",
    "        train_loss = 0\n",
    "        train_preds, train_labels = [], []\n",
    "\n",
    "        train_bar = tqdm(train_loader, desc=f\"Epoch {epoch+1} - Training\")\n",
    "        for batch in train_bar:\n",
    "            ids = batch['ids'].to(device)\n",
    "            mask = batch['mask'].to(device)\n",
    "            targets = batch['targets'].to(device)\n",
    "\n",
    "            optimizer.zero_grad()\n",
    "            outputs = model(ids, mask)\n",
    "            loss = loss_function(outputs, targets)\n",
    "            loss.backward()\n",
    "            optimizer.step()\n",
    "\n",
    "            train_loss += loss.item()\n",
    "            _, predicted = torch.max(outputs, 1)\n",
    "            train_preds.extend(predicted.cpu().tolist())\n",
    "            train_labels.extend(targets.cpu().tolist())\n",
    "\n",
    "            train_bar.set_postfix(loss=loss.item())\n",
    "\n",
    "        avg_train_loss = train_loss / len(train_loader)\n",
    "        train_acc = accuracy_score(train_labels, train_preds)\n",
    "        train_precision = precision_score(train_labels, train_preds, average='macro', zero_division=0)\n",
    "        train_recall = recall_score(train_labels, train_preds, average='macro', zero_division=0)\n",
    "        train_f1 = f1_score(train_labels, train_preds, average='macro', zero_division=0)\n",
    "\n",
    "        # validation\n",
    "        model.eval()\n",
    "        val_loss = 0\n",
    "        val_preds, val_labels = [], []\n",
    "\n",
    "        val_bar = tqdm(val_loader, desc=f\"Epoch {epoch+1} - Validation\")\n",
    "        with torch.no_grad():\n",
    "            for batch in val_bar:\n",
    "                ids = batch['ids'].to(device)\n",
    "                mask = batch['mask'].to(device)\n",
    "                targets = batch['targets'].to(device)\n",
    "\n",
    "                outputs = model(ids, mask)\n",
    "                loss = loss_function(outputs, targets)\n",
    "                val_loss += loss.item()\n",
    "\n",
    "                _, predicted = torch.max(outputs, 1)\n",
    "                val_preds.extend(predicted.cpu().tolist())\n",
    "                val_labels.extend(targets.cpu().tolist())\n",
    "\n",
    "                val_bar.set_postfix(loss=loss.item())\n",
    "\n",
    "        avg_val_loss = val_loss / len(val_loader)\n",
    "        val_acc = accuracy_score(val_labels, val_preds)\n",
    "        val_precision = precision_score(val_labels, val_preds, average='macro', zero_division=0)\n",
    "        val_recall = recall_score(val_labels, val_preds, average='macro', zero_division=0)\n",
    "        val_f1 = f1_score(val_labels, val_preds, average='macro', zero_division=0)\n",
    "\n",
    "        # store metrics for graph plotting\n",
    "        history['train_loss'].append(avg_train_loss)\n",
    "        history['val_loss'].append(avg_val_loss)\n",
    "        history['train_acc'].append(train_acc)\n",
    "        history['val_acc'].append(val_acc)\n",
    "        history['train_precision'].append(train_precision)\n",
    "        history['val_precision'].append(val_precision)\n",
    "        history['train_recall'].append(train_recall)\n",
    "        history['val_recall'].append(val_recall)\n",
    "        history['train_f1'].append(train_f1)\n",
    "        history['val_f1'].append(val_f1)\n",
    "\n",
    "        print(f\"Epoch {epoch+1}\")\n",
    "        print(f\"\\tTrain Loss: {avg_train_loss:.4f} | Acc: {train_acc*100:.2f}% | P: {train_precision:.4f} | R: {train_recall:.4f} | F1: {train_f1:.4f}\")\n",
    "        print(f\"\\tVal   Loss: {avg_val_loss:.4f} | Acc: {val_acc*100:.2f}% | P: {val_precision:.4f} | R: {val_recall:.4f} | F1: {val_f1:.4f}\")\n",
    "\n",
    "        # save best model + early stopping\n",
    "        if checkpoint_dir and avg_val_loss < best_val_loss:\n",
    "            best_val_loss = avg_val_loss\n",
    "            patience_counter = 0\n",
    "            best_path = os.path.join(checkpoint_dir, \"best_model.pt\")\n",
    "            save_checkpoint(model, optimizer, epoch, best_path)\n",
    "            print(f\"Best model saved to {best_path}\")\n",
    "        else:\n",
    "            patience_counter += 1\n",
    "            if patience_counter >= patience:\n",
    "                print(f\"Early stopping triggered after {epoch+1} epochs.\")\n",
    "                break\n",
    "\n",
    "        # save checkpoint every 20 epochs\n",
    "        if checkpoint_dir and (epoch + 1) % 20 == 0:\n",
    "            path = os.path.join(checkpoint_dir, f\"checkpoint_epoch_{epoch+1}.pt\")\n",
    "            save_checkpoint(model, optimizer, epoch, path)\n",
    "            print(f\"Checkpoint saved to {path}\")\n",
    "\n",
    "    # for last validation\n",
    "    print(\"\\nFinal Validation Classification Report:\")\n",
    "    print(classification_report(val_labels, val_preds, digits=4))\n",
    "\n",
    "    return history\n"
   ]
  },
  {
   "cell_type": "code",
   "execution_count": 13,
   "metadata": {},
   "outputs": [],
   "source": [
    "import matplotlib.pyplot as plt\n",
    "\n",
    "def plot_history(history):\n",
    "    epochs = range(1, len(history['train_loss']) + 1)\n",
    "\n",
    "    def plot_metric(metric_name, ylabel):\n",
    "        plt.figure()\n",
    "        plt.plot(epochs, history[f'train_{metric_name}'], label='Train')\n",
    "        plt.plot(epochs, history[f'val_{metric_name}'], label='Validation')\n",
    "        plt.title(f'{ylabel} over Epochs')\n",
    "        plt.xlabel('Epoch')\n",
    "        plt.ylabel(ylabel)\n",
    "        plt.legend()\n",
    "        plt.grid(True)\n",
    "        plt.show()\n",
    "\n",
    "    plot_metric('loss', 'Loss')\n",
    "    plot_metric('acc', 'Accuracy')\n",
    "    # plot_metric('precision', 'Precision')\n",
    "    # plot_metric('recall', 'Recall')\n",
    "    # plot_metric('f1', 'F1 Score')"
   ]
  },
  {
   "cell_type": "code",
   "execution_count": 14,
   "metadata": {},
   "outputs": [],
   "source": [
    "def evaluate_bert_model(model, data_loader, loss_function, device, set_name=\"Test\"):\n",
    "    model.eval()\n",
    "    total_loss = 0\n",
    "    all_preds = []\n",
    "    all_targets = []\n",
    "    loop = tqdm(data_loader, desc=f\"{set_name} Evaluation\")\n",
    "\n",
    "    with torch.no_grad():\n",
    "        for batch in loop:\n",
    "            ids = batch['ids'].to(device)\n",
    "            mask = batch['mask'].to(device)\n",
    "            targets = batch['targets'].to(device)\n",
    "\n",
    "            outputs = model(ids, mask)\n",
    "            loss = loss_function(outputs, targets)\n",
    "            total_loss += loss.item()\n",
    "\n",
    "            _, predicted = torch.max(outputs, 1)\n",
    "            all_preds.extend(predicted.cpu().tolist())\n",
    "            all_targets.extend(targets.cpu().tolist())\n",
    "\n",
    "            loop.set_postfix(loss=loss.item())\n",
    "\n",
    "    avg_loss = total_loss / len(data_loader)\n",
    "    accuracy = accuracy_score(all_targets, all_preds)\n",
    "    precision = precision_score(all_targets, all_preds, average='macro', zero_division=0)\n",
    "    recall = recall_score(all_targets, all_preds, average='macro', zero_division=0)\n",
    "    f1 = f1_score(all_targets, all_preds, average='macro', zero_division=0)\n",
    "\n",
    "    print(f\"{set_name} Loss: {avg_loss:.4f} | Acc: {accuracy*100:.2f}% | P: {precision:.4f} | R: {recall:.4f} | F1: {f1:.4f}\")\n",
    "\n",
    "    return avg_loss, accuracy, precision, recall, f1, all_preds, all_targets"
   ]
  },
  {
   "cell_type": "code",
   "execution_count": 15,
   "metadata": {},
   "outputs": [],
   "source": [
    "def save_checkpoint(model, optimizer, epoch, path):\n",
    "    torch.save({\n",
    "        'epoch': epoch,\n",
    "        'model_state_dict': model.state_dict(),\n",
    "        'optimizer_state_dict': optimizer.state_dict()\n",
    "    }, path)\n",
    "\n",
    "def load_checkpoint(model, optimizer, path, device):\n",
    "    checkpoint = torch.load(path, map_location=device)\n",
    "    model.load_state_dict(checkpoint['model_state_dict'])\n",
    "    optimizer.load_state_dict(checkpoint['optimizer_state_dict'])\n",
    "    return model, optimizer, checkpoint['epoch']\n",
    "\n",
    "def find_latest_checkpoint(checkpoint_dir):\n",
    "    checkpoints = glob.glob(os.path.join(checkpoint_dir, 'checkpoint_epoch_*.pt'))\n",
    "    if not checkpoints:\n",
    "        return None\n",
    "    return max(checkpoints, key=os.path.getctime)"
   ]
  },
  {
   "cell_type": "code",
   "execution_count": 16,
   "metadata": {},
   "outputs": [
    {
     "data": {
      "text/plain": [
       "PestelClassifier(\n",
       "  (distilbert): DistilBertModel(\n",
       "    (embeddings): Embeddings(\n",
       "      (word_embeddings): Embedding(30522, 768, padding_idx=0)\n",
       "      (position_embeddings): Embedding(512, 768)\n",
       "      (LayerNorm): LayerNorm((768,), eps=1e-12, elementwise_affine=True)\n",
       "      (dropout): Dropout(p=0.1, inplace=False)\n",
       "    )\n",
       "    (transformer): Transformer(\n",
       "      (layer): ModuleList(\n",
       "        (0-5): 6 x TransformerBlock(\n",
       "          (attention): MultiHeadSelfAttention(\n",
       "            (dropout): Dropout(p=0.1, inplace=False)\n",
       "            (q_lin): Linear(in_features=768, out_features=768, bias=True)\n",
       "            (k_lin): Linear(in_features=768, out_features=768, bias=True)\n",
       "            (v_lin): Linear(in_features=768, out_features=768, bias=True)\n",
       "            (out_lin): Linear(in_features=768, out_features=768, bias=True)\n",
       "          )\n",
       "          (sa_layer_norm): LayerNorm((768,), eps=1e-12, elementwise_affine=True)\n",
       "          (ffn): FFN(\n",
       "            (dropout): Dropout(p=0.1, inplace=False)\n",
       "            (lin1): Linear(in_features=768, out_features=3072, bias=True)\n",
       "            (lin2): Linear(in_features=3072, out_features=768, bias=True)\n",
       "            (activation): GELUActivation()\n",
       "          )\n",
       "          (output_layer_norm): LayerNorm((768,), eps=1e-12, elementwise_affine=True)\n",
       "        )\n",
       "      )\n",
       "    )\n",
       "  )\n",
       "  (dropout): Dropout(p=0.3, inplace=False)\n",
       "  (output): Linear(in_features=768, out_features=6, bias=True)\n",
       ")"
      ]
     },
     "execution_count": 16,
     "metadata": {},
     "output_type": "execute_result"
    }
   ],
   "source": [
    "num_classes = 6  # For PESTEL\n",
    "device = torch.device(\"cuda\" if torch.cuda.is_available() else \"cpu\")\n",
    "model = PestelClassifier(distilbert_model, num_classes)\n",
    "model.to(device)"
   ]
  },
  {
   "cell_type": "code",
   "execution_count": 17,
   "metadata": {},
   "outputs": [],
   "source": [
    "EPOCHS = 400\n",
    "LEARNING_RATE = 1e-6\n",
    "MAX_LEN = 128\n",
    "BATCH_SIZE = 32 \n",
    "\n",
    "train_set = NewsDataset(train_df, tokenizer, MAX_LEN, pestel_to_idx)\n",
    "val_set = NewsDataset(val_df, tokenizer, MAX_LEN, pestel_to_idx)\n",
    "test_set = NewsDataset(test_df, tokenizer, MAX_LEN, pestel_to_idx)\n",
    "\n",
    "train_loader = DataLoader(train_set, batch_size=BATCH_SIZE, shuffle=True)\n",
    "val_loader = DataLoader(val_set, batch_size=BATCH_SIZE, shuffle=False)\n",
    "test_loader = DataLoader(test_set, batch_size=BATCH_SIZE, shuffle=False)\n",
    "\n",
    "optimizer = torch.optim.Adam(params=model.parameters(), lr=LEARNING_RATE, weight_decay=0.01)\n",
    "loss_function = torch.nn.CrossEntropyLoss()"
   ]
  },
  {
   "cell_type": "code",
   "execution_count": 18,
   "metadata": {},
   "outputs": [
    {
     "name": "stdout",
     "output_type": "stream",
     "text": [
      "Resuming from checkpoint: ./checkpoints_100per/checkpoint_epoch_120.pt\n"
     ]
    },
    {
     "name": "stderr",
     "output_type": "stream",
     "text": [
      "Epoch 121 - Training: 100%|██████████| 14/14 [00:22<00:00,  1.64s/it, loss=0.209]\n",
      "Epoch 121 - Validation: 100%|██████████| 2/2 [00:00<00:00,  2.36it/s, loss=0.754]\n"
     ]
    },
    {
     "name": "stdout",
     "output_type": "stream",
     "text": [
      "Epoch 121\n",
      "\tTrain Loss: 0.3960 | Acc: 91.43% | P: 0.9148 | R: 0.9143 | F1: 0.9133\n",
      "\tVal   Loss: 0.8830 | Acc: 71.67% | P: 0.7259 | R: 0.7167 | F1: 0.7167\n",
      "Best model saved to ./checkpoints_100per/best_model.pt\n"
     ]
    },
    {
     "name": "stderr",
     "output_type": "stream",
     "text": [
      "Epoch 122 - Training: 100%|██████████| 14/14 [00:22<00:00,  1.59s/it, loss=0.222]\n",
      "Epoch 122 - Validation: 100%|██████████| 2/2 [00:00<00:00,  2.40it/s, loss=0.755]\n"
     ]
    },
    {
     "name": "stdout",
     "output_type": "stream",
     "text": [
      "Epoch 122\n",
      "\tTrain Loss: 0.3920 | Acc: 92.14% | P: 0.9211 | R: 0.9214 | F1: 0.9207\n",
      "\tVal   Loss: 0.8840 | Acc: 71.67% | P: 0.7259 | R: 0.7167 | F1: 0.7167\n"
     ]
    },
    {
     "name": "stderr",
     "output_type": "stream",
     "text": [
      "Epoch 123 - Training: 100%|██████████| 14/14 [00:22<00:00,  1.57s/it, loss=0.508]\n",
      "Epoch 123 - Validation: 100%|██████████| 2/2 [00:00<00:00,  2.37it/s, loss=0.749]\n"
     ]
    },
    {
     "name": "stdout",
     "output_type": "stream",
     "text": [
      "Epoch 123\n",
      "\tTrain Loss: 0.4074 | Acc: 91.19% | P: 0.9122 | R: 0.9119 | F1: 0.9112\n",
      "\tVal   Loss: 0.8794 | Acc: 71.67% | P: 0.7259 | R: 0.7167 | F1: 0.7167\n",
      "Best model saved to ./checkpoints_100per/best_model.pt\n"
     ]
    },
    {
     "name": "stderr",
     "output_type": "stream",
     "text": [
      "Epoch 124 - Training: 100%|██████████| 14/14 [00:22<00:00,  1.58s/it, loss=0.227]\n",
      "Epoch 124 - Validation: 100%|██████████| 2/2 [00:00<00:00,  2.40it/s, loss=0.743]\n"
     ]
    },
    {
     "name": "stdout",
     "output_type": "stream",
     "text": [
      "Epoch 124\n",
      "\tTrain Loss: 0.3868 | Acc: 91.67% | P: 0.9169 | R: 0.9167 | F1: 0.9160\n",
      "\tVal   Loss: 0.8752 | Acc: 71.67% | P: 0.7259 | R: 0.7167 | F1: 0.7167\n",
      "Best model saved to ./checkpoints_100per/best_model.pt\n"
     ]
    },
    {
     "name": "stderr",
     "output_type": "stream",
     "text": [
      "Epoch 125 - Training: 100%|██████████| 14/14 [00:22<00:00,  1.58s/it, loss=0.163]\n",
      "Epoch 125 - Validation: 100%|██████████| 2/2 [00:00<00:00,  2.39it/s, loss=0.742]\n"
     ]
    },
    {
     "name": "stdout",
     "output_type": "stream",
     "text": [
      "Epoch 125\n",
      "\tTrain Loss: 0.3624 | Acc: 92.86% | P: 0.9285 | R: 0.9286 | F1: 0.9279\n",
      "\tVal   Loss: 0.8735 | Acc: 71.67% | P: 0.7259 | R: 0.7167 | F1: 0.7167\n",
      "Best model saved to ./checkpoints_100per/best_model.pt\n"
     ]
    },
    {
     "name": "stderr",
     "output_type": "stream",
     "text": [
      "Epoch 126 - Training: 100%|██████████| 14/14 [00:22<00:00,  1.58s/it, loss=0.175]\n",
      "Epoch 126 - Validation: 100%|██████████| 2/2 [00:00<00:00,  2.38it/s, loss=0.741]\n"
     ]
    },
    {
     "name": "stdout",
     "output_type": "stream",
     "text": [
      "Epoch 126\n",
      "\tTrain Loss: 0.3525 | Acc: 92.62% | P: 0.9268 | R: 0.9262 | F1: 0.9257\n",
      "\tVal   Loss: 0.8730 | Acc: 70.00% | P: 0.7018 | R: 0.7000 | F1: 0.6975\n",
      "Best model saved to ./checkpoints_100per/best_model.pt\n"
     ]
    },
    {
     "name": "stderr",
     "output_type": "stream",
     "text": [
      "Epoch 127 - Training: 100%|██████████| 14/14 [00:22<00:00,  1.58s/it, loss=0.0874]\n",
      "Epoch 127 - Validation: 100%|██████████| 2/2 [00:00<00:00,  2.38it/s, loss=0.741]\n"
     ]
    },
    {
     "name": "stdout",
     "output_type": "stream",
     "text": [
      "Epoch 127\n",
      "\tTrain Loss: 0.3476 | Acc: 93.10% | P: 0.9313 | R: 0.9310 | F1: 0.9305\n",
      "\tVal   Loss: 0.8725 | Acc: 70.00% | P: 0.7018 | R: 0.7000 | F1: 0.6975\n",
      "Best model saved to ./checkpoints_100per/best_model.pt\n"
     ]
    },
    {
     "name": "stderr",
     "output_type": "stream",
     "text": [
      "Epoch 128 - Training: 100%|██████████| 14/14 [00:21<00:00,  1.57s/it, loss=0.224]\n",
      "Epoch 128 - Validation: 100%|██████████| 2/2 [00:00<00:00,  2.37it/s, loss=0.742]\n"
     ]
    },
    {
     "name": "stdout",
     "output_type": "stream",
     "text": [
      "Epoch 128\n",
      "\tTrain Loss: 0.3527 | Acc: 93.10% | P: 0.9314 | R: 0.9310 | F1: 0.9303\n",
      "\tVal   Loss: 0.8726 | Acc: 70.00% | P: 0.7018 | R: 0.7000 | F1: 0.6975\n"
     ]
    },
    {
     "name": "stderr",
     "output_type": "stream",
     "text": [
      "Epoch 129 - Training: 100%|██████████| 14/14 [00:22<00:00,  1.57s/it, loss=0.168]\n",
      "Epoch 129 - Validation: 100%|██████████| 2/2 [00:00<00:00,  2.35it/s, loss=0.744]\n"
     ]
    },
    {
     "name": "stdout",
     "output_type": "stream",
     "text": [
      "Epoch 129\n",
      "\tTrain Loss: 0.3395 | Acc: 93.33% | P: 0.9338 | R: 0.9333 | F1: 0.9327\n",
      "\tVal   Loss: 0.8739 | Acc: 70.00% | P: 0.7018 | R: 0.7000 | F1: 0.6975\n"
     ]
    },
    {
     "name": "stderr",
     "output_type": "stream",
     "text": [
      "Epoch 130 - Training: 100%|██████████| 14/14 [00:22<00:00,  1.58s/it, loss=0.417]\n",
      "Epoch 130 - Validation: 100%|██████████| 2/2 [00:00<00:00,  2.38it/s, loss=0.744]\n"
     ]
    },
    {
     "name": "stdout",
     "output_type": "stream",
     "text": [
      "Epoch 130\n",
      "\tTrain Loss: 0.3546 | Acc: 93.81% | P: 0.9384 | R: 0.9381 | F1: 0.9378\n",
      "\tVal   Loss: 0.8743 | Acc: 70.00% | P: 0.7018 | R: 0.7000 | F1: 0.6975\n"
     ]
    },
    {
     "name": "stderr",
     "output_type": "stream",
     "text": [
      "Epoch 131 - Training: 100%|██████████| 14/14 [00:22<00:00,  1.57s/it, loss=0.16] \n",
      "Epoch 131 - Validation: 100%|██████████| 2/2 [00:00<00:00,  2.39it/s, loss=0.743]\n"
     ]
    },
    {
     "name": "stdout",
     "output_type": "stream",
     "text": [
      "Epoch 131\n",
      "\tTrain Loss: 0.3278 | Acc: 93.33% | P: 0.9336 | R: 0.9333 | F1: 0.9329\n",
      "\tVal   Loss: 0.8727 | Acc: 70.00% | P: 0.7018 | R: 0.7000 | F1: 0.6975\n"
     ]
    },
    {
     "name": "stderr",
     "output_type": "stream",
     "text": [
      "Epoch 132 - Training: 100%|██████████| 14/14 [00:22<00:00,  1.58s/it, loss=0.313]\n",
      "Epoch 132 - Validation: 100%|██████████| 2/2 [00:00<00:00,  2.37it/s, loss=0.738]\n"
     ]
    },
    {
     "name": "stdout",
     "output_type": "stream",
     "text": [
      "Epoch 132\n",
      "\tTrain Loss: 0.3439 | Acc: 93.57% | P: 0.9365 | R: 0.9357 | F1: 0.9355\n",
      "\tVal   Loss: 0.8695 | Acc: 70.00% | P: 0.7018 | R: 0.7000 | F1: 0.6975\n",
      "Best model saved to ./checkpoints_100per/best_model.pt\n"
     ]
    },
    {
     "name": "stderr",
     "output_type": "stream",
     "text": [
      "Epoch 133 - Training: 100%|██████████| 14/14 [00:22<00:00,  1.60s/it, loss=0.201]\n",
      "Epoch 133 - Validation: 100%|██████████| 2/2 [00:00<00:00,  2.32it/s, loss=0.739]\n"
     ]
    },
    {
     "name": "stdout",
     "output_type": "stream",
     "text": [
      "Epoch 133\n",
      "\tTrain Loss: 0.3282 | Acc: 94.52% | P: 0.9459 | R: 0.9452 | F1: 0.9451\n",
      "\tVal   Loss: 0.8702 | Acc: 70.00% | P: 0.7018 | R: 0.7000 | F1: 0.6975\n"
     ]
    },
    {
     "name": "stderr",
     "output_type": "stream",
     "text": [
      "Epoch 134 - Training: 100%|██████████| 14/14 [00:22<00:00,  1.61s/it, loss=0.25] \n",
      "Epoch 134 - Validation: 100%|██████████| 2/2 [00:00<00:00,  2.39it/s, loss=0.742]\n"
     ]
    },
    {
     "name": "stdout",
     "output_type": "stream",
     "text": [
      "Epoch 134\n",
      "\tTrain Loss: 0.3276 | Acc: 94.05% | P: 0.9413 | R: 0.9405 | F1: 0.9402\n",
      "\tVal   Loss: 0.8714 | Acc: 70.00% | P: 0.7013 | R: 0.7000 | F1: 0.6978\n"
     ]
    },
    {
     "name": "stderr",
     "output_type": "stream",
     "text": [
      "Epoch 135 - Training: 100%|██████████| 14/14 [00:22<00:00,  1.64s/it, loss=0.133]\n",
      "Epoch 135 - Validation: 100%|██████████| 2/2 [00:00<00:00,  2.31it/s, loss=0.746]\n"
     ]
    },
    {
     "name": "stdout",
     "output_type": "stream",
     "text": [
      "Epoch 135\n",
      "\tTrain Loss: 0.3117 | Acc: 94.05% | P: 0.9406 | R: 0.9405 | F1: 0.9403\n",
      "\tVal   Loss: 0.8721 | Acc: 70.00% | P: 0.7018 | R: 0.7000 | F1: 0.6975\n"
     ]
    },
    {
     "name": "stderr",
     "output_type": "stream",
     "text": [
      "Epoch 136 - Training: 100%|██████████| 14/14 [00:22<00:00,  1.62s/it, loss=0.122]\n",
      "Epoch 136 - Validation: 100%|██████████| 2/2 [00:00<00:00,  2.26it/s, loss=0.747]\n"
     ]
    },
    {
     "name": "stdout",
     "output_type": "stream",
     "text": [
      "Epoch 136\n",
      "\tTrain Loss: 0.3104 | Acc: 94.29% | P: 0.9438 | R: 0.9429 | F1: 0.9425\n",
      "\tVal   Loss: 0.8715 | Acc: 70.00% | P: 0.7018 | R: 0.7000 | F1: 0.6975\n"
     ]
    },
    {
     "name": "stderr",
     "output_type": "stream",
     "text": [
      "Epoch 137 - Training: 100%|██████████| 14/14 [00:23<00:00,  1.68s/it, loss=0.278]\n",
      "Epoch 137 - Validation: 100%|██████████| 2/2 [00:01<00:00,  1.95it/s, loss=0.744]\n"
     ]
    },
    {
     "name": "stdout",
     "output_type": "stream",
     "text": [
      "Epoch 137\n",
      "\tTrain Loss: 0.3071 | Acc: 93.81% | P: 0.9387 | R: 0.9381 | F1: 0.9378\n",
      "\tVal   Loss: 0.8687 | Acc: 70.00% | P: 0.7018 | R: 0.7000 | F1: 0.6975\n",
      "Best model saved to ./checkpoints_100per/best_model.pt\n"
     ]
    },
    {
     "name": "stderr",
     "output_type": "stream",
     "text": [
      "Epoch 138 - Training: 100%|██████████| 14/14 [00:22<00:00,  1.64s/it, loss=0.131]\n",
      "Epoch 138 - Validation: 100%|██████████| 2/2 [00:00<00:00,  2.27it/s, loss=0.745]\n"
     ]
    },
    {
     "name": "stdout",
     "output_type": "stream",
     "text": [
      "Epoch 138\n",
      "\tTrain Loss: 0.2940 | Acc: 95.48% | P: 0.9552 | R: 0.9548 | F1: 0.9546\n",
      "\tVal   Loss: 0.8707 | Acc: 70.00% | P: 0.7018 | R: 0.7000 | F1: 0.6975\n"
     ]
    },
    {
     "name": "stderr",
     "output_type": "stream",
     "text": [
      "Epoch 139 - Training: 100%|██████████| 14/14 [00:22<00:00,  1.64s/it, loss=0.432]\n",
      "Epoch 139 - Validation: 100%|██████████| 2/2 [00:00<00:00,  2.32it/s, loss=0.744]\n"
     ]
    },
    {
     "name": "stdout",
     "output_type": "stream",
     "text": [
      "Epoch 139\n",
      "\tTrain Loss: 0.3155 | Acc: 94.52% | P: 0.9454 | R: 0.9452 | F1: 0.9449\n",
      "\tVal   Loss: 0.8703 | Acc: 68.33% | P: 0.6848 | R: 0.6833 | F1: 0.6791\n"
     ]
    },
    {
     "name": "stderr",
     "output_type": "stream",
     "text": [
      "Epoch 140 - Training: 100%|██████████| 14/14 [00:22<00:00,  1.63s/it, loss=0.533]\n",
      "Epoch 140 - Validation: 100%|██████████| 2/2 [00:00<00:00,  2.27it/s, loss=0.739]\n"
     ]
    },
    {
     "name": "stdout",
     "output_type": "stream",
     "text": [
      "Epoch 140\n",
      "\tTrain Loss: 0.3159 | Acc: 93.10% | P: 0.9312 | R: 0.9310 | F1: 0.9305\n",
      "\tVal   Loss: 0.8688 | Acc: 70.00% | P: 0.7013 | R: 0.7000 | F1: 0.6978\n",
      "Checkpoint saved to ./checkpoints_100per/checkpoint_epoch_140.pt\n"
     ]
    },
    {
     "name": "stderr",
     "output_type": "stream",
     "text": [
      "Epoch 141 - Training: 100%|██████████| 14/14 [00:22<00:00,  1.62s/it, loss=0.0712]\n",
      "Epoch 141 - Validation: 100%|██████████| 2/2 [00:00<00:00,  2.38it/s, loss=0.741]\n"
     ]
    },
    {
     "name": "stdout",
     "output_type": "stream",
     "text": [
      "Epoch 141\n",
      "\tTrain Loss: 0.2743 | Acc: 94.52% | P: 0.9457 | R: 0.9452 | F1: 0.9450\n",
      "\tVal   Loss: 0.8684 | Acc: 70.00% | P: 0.7018 | R: 0.7000 | F1: 0.6975\n",
      "Best model saved to ./checkpoints_100per/best_model.pt\n"
     ]
    },
    {
     "name": "stderr",
     "output_type": "stream",
     "text": [
      "Epoch 142 - Training: 100%|██████████| 14/14 [00:22<00:00,  1.64s/it, loss=0.18] \n",
      "Epoch 142 - Validation: 100%|██████████| 2/2 [00:00<00:00,  2.21it/s, loss=0.749]\n"
     ]
    },
    {
     "name": "stdout",
     "output_type": "stream",
     "text": [
      "Epoch 142\n",
      "\tTrain Loss: 0.2842 | Acc: 94.52% | P: 0.9454 | R: 0.9452 | F1: 0.9451\n",
      "\tVal   Loss: 0.8716 | Acc: 70.00% | P: 0.7018 | R: 0.7000 | F1: 0.6975\n"
     ]
    },
    {
     "name": "stderr",
     "output_type": "stream",
     "text": [
      "Epoch 143 - Training: 100%|██████████| 14/14 [00:30<00:00,  2.15s/it, loss=0.22] \n",
      "Epoch 143 - Validation: 100%|██████████| 2/2 [00:00<00:00,  2.17it/s, loss=0.75] \n"
     ]
    },
    {
     "name": "stdout",
     "output_type": "stream",
     "text": [
      "Epoch 143\n",
      "\tTrain Loss: 0.2768 | Acc: 95.24% | P: 0.9526 | R: 0.9524 | F1: 0.9522\n",
      "\tVal   Loss: 0.8715 | Acc: 70.00% | P: 0.7018 | R: 0.7000 | F1: 0.6975\n"
     ]
    },
    {
     "name": "stderr",
     "output_type": "stream",
     "text": [
      "Epoch 144 - Training: 100%|██████████| 14/14 [00:30<00:00,  2.21s/it, loss=0.637]\n",
      "Epoch 144 - Validation: 100%|██████████| 2/2 [00:00<00:00,  2.29it/s, loss=0.749]\n"
     ]
    },
    {
     "name": "stdout",
     "output_type": "stream",
     "text": [
      "Epoch 144\n",
      "\tTrain Loss: 0.3031 | Acc: 94.05% | P: 0.9403 | R: 0.9405 | F1: 0.9400\n",
      "\tVal   Loss: 0.8698 | Acc: 68.33% | P: 0.6848 | R: 0.6833 | F1: 0.6791\n"
     ]
    },
    {
     "name": "stderr",
     "output_type": "stream",
     "text": [
      "Epoch 145 - Training: 100%|██████████| 14/14 [00:31<00:00,  2.26s/it, loss=0.165]\n",
      "Epoch 145 - Validation: 100%|██████████| 2/2 [00:01<00:00,  1.18it/s, loss=0.756]\n"
     ]
    },
    {
     "name": "stdout",
     "output_type": "stream",
     "text": [
      "Epoch 145\n",
      "\tTrain Loss: 0.2716 | Acc: 94.29% | P: 0.9441 | R: 0.9429 | F1: 0.9428\n",
      "\tVal   Loss: 0.8735 | Acc: 68.33% | P: 0.6848 | R: 0.6833 | F1: 0.6791\n"
     ]
    },
    {
     "name": "stderr",
     "output_type": "stream",
     "text": [
      "Epoch 146 - Training: 100%|██████████| 14/14 [00:32<00:00,  2.31s/it, loss=0.0829]\n",
      "Epoch 146 - Validation: 100%|██████████| 2/2 [00:01<00:00,  1.93it/s, loss=0.758]\n"
     ]
    },
    {
     "name": "stdout",
     "output_type": "stream",
     "text": [
      "Epoch 146\n",
      "\tTrain Loss: 0.2644 | Acc: 94.29% | P: 0.9435 | R: 0.9429 | F1: 0.9425\n",
      "\tVal   Loss: 0.8748 | Acc: 68.33% | P: 0.6848 | R: 0.6833 | F1: 0.6791\n"
     ]
    },
    {
     "name": "stderr",
     "output_type": "stream",
     "text": [
      "Epoch 147 - Training: 100%|██████████| 14/14 [00:23<00:00,  1.69s/it, loss=0.113]\n",
      "Epoch 147 - Validation: 100%|██████████| 2/2 [00:00<00:00,  2.82it/s, loss=0.757]\n"
     ]
    },
    {
     "name": "stdout",
     "output_type": "stream",
     "text": [
      "Epoch 147\n",
      "\tTrain Loss: 0.2635 | Acc: 94.29% | P: 0.9434 | R: 0.9429 | F1: 0.9425\n",
      "\tVal   Loss: 0.8738 | Acc: 68.33% | P: 0.6848 | R: 0.6833 | F1: 0.6791\n"
     ]
    },
    {
     "name": "stderr",
     "output_type": "stream",
     "text": [
      "Epoch 148 - Training: 100%|██████████| 14/14 [00:18<00:00,  1.35s/it, loss=0.135]\n",
      "Epoch 148 - Validation: 100%|██████████| 2/2 [00:00<00:00,  2.77it/s, loss=0.752]\n"
     ]
    },
    {
     "name": "stdout",
     "output_type": "stream",
     "text": [
      "Epoch 148\n",
      "\tTrain Loss: 0.2535 | Acc: 94.76% | P: 0.9475 | R: 0.9476 | F1: 0.9473\n",
      "\tVal   Loss: 0.8699 | Acc: 70.00% | P: 0.7066 | R: 0.7000 | F1: 0.6972\n"
     ]
    },
    {
     "name": "stderr",
     "output_type": "stream",
     "text": [
      "Epoch 149 - Training: 100%|██████████| 14/14 [00:18<00:00,  1.36s/it, loss=0.277]\n",
      "Epoch 149 - Validation: 100%|██████████| 2/2 [00:00<00:00,  2.81it/s, loss=0.753]\n"
     ]
    },
    {
     "name": "stdout",
     "output_type": "stream",
     "text": [
      "Epoch 149\n",
      "\tTrain Loss: 0.2592 | Acc: 95.00% | P: 0.9505 | R: 0.9500 | F1: 0.9497\n",
      "\tVal   Loss: 0.8711 | Acc: 68.33% | P: 0.6848 | R: 0.6833 | F1: 0.6791\n"
     ]
    },
    {
     "name": "stderr",
     "output_type": "stream",
     "text": [
      "Epoch 150 - Training: 100%|██████████| 14/14 [00:19<00:00,  1.38s/it, loss=0.171]\n",
      "Epoch 150 - Validation: 100%|██████████| 2/2 [00:00<00:00,  2.76it/s, loss=0.758]\n"
     ]
    },
    {
     "name": "stdout",
     "output_type": "stream",
     "text": [
      "Epoch 150\n",
      "\tTrain Loss: 0.2464 | Acc: 95.71% | P: 0.9574 | R: 0.9571 | F1: 0.9570\n",
      "\tVal   Loss: 0.8734 | Acc: 70.00% | P: 0.7066 | R: 0.7000 | F1: 0.6972\n"
     ]
    },
    {
     "name": "stderr",
     "output_type": "stream",
     "text": [
      "Epoch 151 - Training: 100%|██████████| 14/14 [00:21<00:00,  1.55s/it, loss=0.655]\n",
      "Epoch 151 - Validation: 100%|██████████| 2/2 [00:00<00:00,  2.62it/s, loss=0.753]\n"
     ]
    },
    {
     "name": "stdout",
     "output_type": "stream",
     "text": [
      "Epoch 151\n",
      "\tTrain Loss: 0.2744 | Acc: 95.24% | P: 0.9529 | R: 0.9524 | F1: 0.9523\n",
      "\tVal   Loss: 0.8697 | Acc: 70.00% | P: 0.7066 | R: 0.7000 | F1: 0.6972\n",
      "Early stopping triggered after 151 epochs.\n",
      "\n",
      "Final Validation Classification Report:\n",
      "              precision    recall  f1-score   support\n",
      "\n",
      "           0     0.6667    0.8000    0.7273        10\n",
      "           1     0.6667    0.6000    0.6316        10\n",
      "           2     0.7143    0.5000    0.5882        10\n",
      "           3     0.8889    0.8000    0.8421        10\n",
      "           4     0.6667    0.8000    0.7273        10\n",
      "           5     0.6364    0.7000    0.6667        10\n",
      "\n",
      "    accuracy                         0.7000        60\n",
      "   macro avg     0.7066    0.7000    0.6972        60\n",
      "weighted avg     0.7066    0.7000    0.6972        60\n",
      "\n"
     ]
    },
    {
     "data": {
      "image/png": "[encoded data removed]",
      "text/plain": [
       "<Figure size 640x480 with 1 Axes>"
      ]
     },
     "metadata": {},
     "output_type": "display_data"
    },
    {
     "data": {
      "image/png": "[encoded data removed]",
      "text/plain": [
       "<Figure size 640x480 with 1 Axes>"
      ]
     },
     "metadata": {},
     "output_type": "display_data"
    }
   ],
   "source": [
    "history = train_bert_model(\n",
    "    model=model,\n",
    "    train_loader=train_loader,\n",
    "    val_loader=val_loader,\n",
    "    device=device,\n",
    "    epochs=EPOCHS,\n",
    "    optimizer=optimizer,\n",
    "    loss_function=loss_function,\n",
    "    patience=10,\n",
    "    checkpoint_dir=\"./checkpoints_100per\",\n",
    "    resume=True\n",
    ")\n",
    "plot_history(history)"
   ]
  },
  {
   "cell_type": "code",
   "execution_count": 19,
   "metadata": {},
   "outputs": [
    {
     "name": "stderr",
     "output_type": "stream",
     "text": [
      "Test Evaluation: 100%|██████████| 4/4 [00:01<00:00,  2.50it/s, loss=0.783]"
     ]
    },
    {
     "name": "stdout",
     "output_type": "stream",
     "text": [
      "Test Loss: 0.8558 | Acc: 73.33% | P: 0.7365 | R: 0.7333 | F1: 0.7321\n",
      "Final Test Accuracy: 73.33% | Test Loss: 0.8558\n"
     ]
    },
    {
     "name": "stderr",
     "output_type": "stream",
     "text": [
      "\n"
     ]
    }
   ],
   "source": [
    "checkpoint = torch.load(\"./checkpoints_100per/best_model.pt\", map_location=device)\n",
    "model.load_state_dict(checkpoint['model_state_dict'])\n",
    "model.to(device)\n",
    "\n",
    "test_loss, test_accuracy, precision, recall, f1, preds, targets = evaluate_bert_model(\n",
    "    model=model,\n",
    "    data_loader=test_loader,\n",
    "    loss_function=loss_function,\n",
    "    device=device,\n",
    "    set_name=\"Test\"\n",
    ")\n",
    "\n",
    "print(f\"Final Test Accuracy: {test_accuracy * 100:.2f}% | Test Loss: {test_loss:.4f}\")"
   ]
  },
  {
   "cell_type": "code",
   "execution_count": 20,
   "metadata": {},
   "outputs": [
    {
     "data": {
      "image/png": "[encoded data removed]",
      "text/plain": [
       "<Figure size 640x480 with 2 Axes>"
      ]
     },
     "metadata": {},
     "output_type": "display_data"
    },
    {
     "data": {
      "image/png": "[encoded data removed]",
      "text/plain": [
       "<Figure size 640x480 with 2 Axes>"
      ]
     },
     "metadata": {},
     "output_type": "display_data"
    }
   ],
   "source": [
    "from sklearn.metrics import confusion_matrix, ConfusionMatrixDisplay\n",
    "\n",
    "cm = confusion_matrix(targets, preds)\n",
    "disp = ConfusionMatrixDisplay(confusion_matrix=cm, display_labels=class_names)\n",
    "disp.plot(xticks_rotation=45)\n",
    "plt.title(\"Confusion Matrix on Test Set\")\n",
    "plt.show()\n",
    "\n",
    "cm = confusion_matrix(targets, preds)\n",
    "cm_percent = cm.astype('float') / cm.sum(axis=1)[:, np.newaxis] \n",
    "cm_display = np.round(cm_percent, 5)\n",
    "disp = ConfusionMatrixDisplay(confusion_matrix=cm_display, display_labels=class_names)\n",
    "disp.plot(cmap='viridis', xticks_rotation=45)\n",
    "plt.title(\"Confusion Matrix on Test Set (Percentage)\")\n",
    "plt.show()"
   ]
  }
 ],
 "metadata": {
  "kernelspec": {
   "display_name": "Python 3",
   "language": "python",
   "name": "python3"
  },
  "language_info": {
   "codemirror_mode": {
    "name": "ipython",
    "version": 3
   },
   "file_extension": ".py",
   "mimetype": "text/x-python",
   "name": "python",
   "nbconvert_exporter": "python",
   "pygments_lexer": "ipython3",
   "version": "3.10.11"
  }
 },
 "nbformat": 4,
 "nbformat_minor": 2
}
